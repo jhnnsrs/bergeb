{
 "cells": [
  {
   "cell_type": "code",
   "execution_count": null,
   "metadata": {},
   "outputs": [
    {
     "data": {
      "application/vnd.jupyter.widget-view+json": {
       "model_id": "c1e10e6e7b5d40e1b4cdc49378dbcb23",
       "version_major": 2,
       "version_minor": 0
      },
      "text/plain": [
       "Output()"
      ]
     },
     "metadata": {},
     "output_type": "display_data"
    }
   ],
   "source": [
    "from bergen.clients.default import Bergen\n",
    "from bergen.monitor.monitor import Monitor\n",
    "from bergen.models import Node\n",
    "import asyncio\n",
    "\n",
    "\n",
    "bergen = Bergen(name=\"karl\",config_path=\"tests/configs/implicit.yaml\", force_new_token=True)\n",
    "await bergen.__aenter__()\n",
    "\n",
    "\n",
    "zeries = await Node.asyncs.get(package=\"Fluss\", interface=\"snappy-red-budgerigar\")"
   ]
  },
  {
   "cell_type": "code",
   "execution_count": 2,
   "metadata": {},
   "outputs": [
    {
     "data": {
      "text/html": [
       "<pre style=\"white-space:pre;overflow-x:auto;line-height:normal;font-family:Menlo,'DejaVu Sans Mono',consolas,'Courier New',monospace\"><span style=\"color: #7fbfbf; text-decoration-color: #7fbfbf\">[16:35:08] </span>Interaction started                                                     <a href=\"file:///home/jhnnsrs/Code/bergen/bergen/extenders/node.py\"><span style=\"color: #7f7f7f; text-decoration-color: #7f7f7f\">node.py</span></a><span style=\"color: #7f7f7f; text-decoration-color: #7f7f7f\">:79</span>\n",
       "</pre>\n"
      ],
      "text/plain": [
       "\u001b[2;36m[16:35:08]\u001b[0m\u001b[2;36m \u001b[0mInteraction started                                                     \u001b]8;id=1618410908.1341312-196224;file:///home/jhnnsrs/Code/bergen/bergen/extenders/node.py\u001b\\\u001b[2mnode.py\u001b[0m\u001b]8;;\u001b\\\u001b[2m:79\u001b[0m\n"
      ]
     },
     "metadata": {},
     "output_type": "display_data"
    },
    {
     "data": {
      "application/vnd.jupyter.widget-view+json": {
       "model_id": "",
       "version_major": 2,
       "version_minor": 0
      },
      "text/plain": [
       "Output()"
      ]
     },
     "metadata": {},
     "output_type": "display_data"
    },
    {
     "data": {
      "text/html": [
       "<pre style=\"white-space:pre;overflow-x:auto;line-height:normal;font-family:Menlo,'DejaVu Sans Mono',consolas,'Courier New',monospace\"></pre>\n"
      ],
      "text/plain": []
     },
     "metadata": {},
     "output_type": "display_data"
    },
    {
     "data": {
      "application/vnd.jupyter.widget-view+json": {
       "model_id": "",
       "version_major": 2,
       "version_minor": 0
      },
      "text/plain": [
       "Output()"
      ]
     },
     "metadata": {},
     "output_type": "display_data"
    },
    {
     "data": {
      "text/html": [
       "<pre style=\"white-space:pre;overflow-x:auto;line-height:normal;font-family:Menlo,'DejaVu Sans Mono',consolas,'Courier New',monospace\"></pre>\n"
      ],
      "text/plain": []
     },
     "metadata": {},
     "output_type": "display_data"
    },
    {
     "name": "stdout",
     "output_type": "stream",
     "text": [
      "[1, 1]\n"
     ]
    },
    {
     "data": {
      "text/html": [
       "<pre style=\"white-space:pre;overflow-x:auto;line-height:normal;font-family:Menlo,'DejaVu Sans Mono',consolas,'Courier New',monospace\"><span style=\"color: #7fbfbf; text-decoration-color: #7fbfbf\">[16:35:12] </span>Interaction Done                                                        <a href=\"file:///home/jhnnsrs/Code/bergen/bergen/extenders/node.py\"><span style=\"color: #7f7f7f; text-decoration-color: #7f7f7f\">node.py</span></a><span style=\"color: #7f7f7f; text-decoration-color: #7f7f7f\">:85</span>\n",
       "</pre>\n"
      ],
      "text/plain": [
       "\u001b[2;36m[16:35:12]\u001b[0m\u001b[2;36m \u001b[0mInteraction Done                                                        \u001b]8;id=1618410912.8619132-986257;file:///home/jhnnsrs/Code/bergen/bergen/extenders/node.py\u001b\\\u001b[2mnode.py\u001b[0m\u001b]8;;\u001b\\\u001b[2m:85\u001b[0m\n"
      ]
     },
     "metadata": {},
     "output_type": "display_data"
    }
   ],
   "source": [
    "async with zeries.interactive() as window:\n",
    "    future = await asyncio.gather(window.graphical_assign(), window.graphical_assign())\n",
    "    print(future)"
   ]
  },
  {
   "cell_type": "code",
   "execution_count": null,
   "metadata": {},
   "outputs": [
    {
     "data": {
      "text/html": [
       "<pre style=\"white-space:pre;overflow-x:auto;line-height:normal;font-family:Menlo,'DejaVu Sans Mono',consolas,'Courier New',monospace\"><span style=\"color: #ff0000; text-decoration-color: #ff0000\">╭──────────────────────────── </span><span style=\"color: #800000; text-decoration-color: #800000; font-weight: bold\">Traceback </span><span style=\"color: #bf7f7f; text-decoration-color: #bf7f7f; font-weight: bold\">(most recent call last)</span><span style=\"color: #ff0000; text-decoration-color: #ff0000\"> ────────────────────────────╮</span>\n",
       "<span style=\"color: #ff0000; text-decoration-color: #ff0000\">│</span> <span style=\"color: #808000; text-decoration-color: #808000\">&lt;ipython-input-3-f897c946c837&gt;</span>:<span style=\"color: #0000ff; text-decoration-color: #0000ff\">1</span> in <span style=\"color: #00ff00; text-decoration-color: #00ff00\">&lt;module&gt;</span>                                              <span style=\"color: #ff0000; text-decoration-color: #ff0000\">│</span>\n",
       "<span style=\"color: #ff0000; text-decoration-color: #ff0000\">│</span>                                                                                           <span style=\"color: #ff0000; text-decoration-color: #ff0000\">│</span>\n",
       "<span style=\"color: #ff0000; text-decoration-color: #ff0000\">│</span> <span style=\"color: #bfbf7f; text-decoration-color: #bfbf7f\">/home/jhnnsrs/Code/bergen/bergen/contracts/</span><span style=\"color: #808000; text-decoration-color: #808000; font-weight: bold\">reservation.py</span>:<span style=\"color: #0000ff; text-decoration-color: #0000ff\">182</span> in <span style=\"color: #00ff00; text-decoration-color: #00ff00\">__aenter__</span>               <span style=\"color: #ff0000; text-decoration-color: #ff0000\">│</span>\n",
       "<span style=\"color: #ff0000; text-decoration-color: #ff0000\">│</span>                                                                                           <span style=\"color: #ff0000; text-decoration-color: #ff0000\">│</span>\n",
       "<span style=\"color: #ff0000; text-decoration-color: #ff0000\">│</span>   <span style=\"color: #7f7f7f; text-decoration-color: #7f7f7f\">179 │   │   </span><span style=\"color: #00ffff; text-decoration-color: #00ffff\">self</span>.worker_task = <span style=\"color: #00ffff; text-decoration-color: #00ffff\">self</span>.loop.create_task(<span style=\"color: #00ffff; text-decoration-color: #00ffff\">self</span>.contract_worker())            <span style=\"color: #ff0000; text-decoration-color: #ff0000\">│</span>\n",
       "<span style=\"color: #ff0000; text-decoration-color: #ff0000\">│</span>   <span style=\"color: #7f7f7f; text-decoration-color: #7f7f7f\">180 │   │   </span>                                                                            <span style=\"color: #ff0000; text-decoration-color: #ff0000\">│</span>\n",
       "<span style=\"color: #ff0000; text-decoration-color: #ff0000\">│</span>   <span style=\"color: #7f7f7f; text-decoration-color: #7f7f7f\">181 │   │   </span><span style=\"color: #00ffff; text-decoration-color: #00ffff\">self</span>.worker_task.add_done_callback(<span style=\"color: #00ffff; text-decoration-color: #00ffff\">self</span>.cancel_reservation)                 <span style=\"color: #ff0000; text-decoration-color: #ff0000\">│</span>\n",
       "<span style=\"color: #ff0000; text-decoration-color: #ff0000\">│</span> <span style=\"color: #800000; text-decoration-color: #800000\">❱ </span>182 <span style=\"color: #7f7f7f; text-decoration-color: #7f7f7f\">│   │   </span><span style=\"color: #00ffff; text-decoration-color: #00ffff\">self</span>.reservation = <span style=\"color: #0000ff; text-decoration-color: #0000ff\">await</span> <span style=\"color: #00ffff; text-decoration-color: #00ffff\">self</span>.contract_started                              <span style=\"color: #ff0000; text-decoration-color: #ff0000\">│</span>\n",
       "<span style=\"color: #ff0000; text-decoration-color: #ff0000\">│</span>   <span style=\"color: #7f7f7f; text-decoration-color: #7f7f7f\">183 │   │   </span><span style=\"color: #00ffff; text-decoration-color: #00ffff\">self</span>.log(<span style=\"color: #808000; text-decoration-color: #808000\">f\"[green]STARTED\"</span>,<span style=\"color: #808000; text-decoration-color: #808000\">f\"Established Reservation {</span><span style=\"color: #00ffff; text-decoration-color: #00ffff\">self</span>.reservation<span style=\"color: #808000; text-decoration-color: #808000\">}\"</span>)   <span style=\"color: #ff0000; text-decoration-color: #ff0000\">│</span>\n",
       "<span style=\"color: #ff0000; text-decoration-color: #ff0000\">│</span>   <span style=\"color: #7f7f7f; text-decoration-color: #7f7f7f\">184 │   │   </span><span style=\"color: #0000ff; text-decoration-color: #0000ff\">return</span> <span style=\"color: #00ffff; text-decoration-color: #00ffff\">self</span>                                                                 <span style=\"color: #ff0000; text-decoration-color: #ff0000\">│</span>\n",
       "<span style=\"color: #ff0000; text-decoration-color: #ff0000\">╰───────────────────────────────────────────────────────────────────────────────────────────╯</span>\n",
       "<span style=\"color: #ff0000; text-decoration-color: #ff0000; font-weight: bold\">CancelledError: </span>\n",
       "</pre>\n"
      ],
      "text/plain": [
       "\u001b[91m╭─\u001b[0m\u001b[91m─────────────────────────── \u001b[0m\u001b[1;31mTraceback \u001b[0m\u001b[1;2;31m(most recent call last)\u001b[0m\u001b[91m ───────────────────────────\u001b[0m\u001b[91m─╮\u001b[0m\n",
       "\u001b[91m│\u001b[0m \u001b[33m<ipython-input-3-f897c946c837>\u001b[0m:\u001b[94m1\u001b[0m in \u001b[92m<module>\u001b[0m                                              \u001b[91m│\u001b[0m\n",
       "\u001b[91m│\u001b[0m                                                                                           \u001b[91m│\u001b[0m\n",
       "\u001b[91m│\u001b[0m \u001b[2;33m/home/jhnnsrs/Code/bergen/bergen/contracts/\u001b[0m\u001b[1;33mreservation.py\u001b[0m:\u001b[94m182\u001b[0m in \u001b[92m__aenter__\u001b[0m               \u001b[91m│\u001b[0m\n",
       "\u001b[91m│\u001b[0m                                                                                           \u001b[91m│\u001b[0m\n",
       "\u001b[91m│\u001b[0m   \u001b[2m179 \u001b[0m\u001b[2m│   │   \u001b[0m\u001b[96mself\u001b[0m.worker_task = \u001b[96mself\u001b[0m.loop.create_task(\u001b[96mself\u001b[0m.contract_worker())            \u001b[91m│\u001b[0m\n",
       "\u001b[91m│\u001b[0m   \u001b[2m180 \u001b[0m\u001b[2m│   │   \u001b[0m                                                                            \u001b[91m│\u001b[0m\n",
       "\u001b[91m│\u001b[0m   \u001b[2m181 \u001b[0m\u001b[2m│   │   \u001b[0m\u001b[96mself\u001b[0m.worker_task.add_done_callback(\u001b[96mself\u001b[0m.cancel_reservation)                 \u001b[91m│\u001b[0m\n",
       "\u001b[91m│\u001b[0m \u001b[31m❱ \u001b[0m182 \u001b[2m│   │   \u001b[0m\u001b[96mself\u001b[0m.reservation = \u001b[94mawait\u001b[0m \u001b[96mself\u001b[0m.contract_started                              \u001b[91m│\u001b[0m\n",
       "\u001b[91m│\u001b[0m   \u001b[2m183 \u001b[0m\u001b[2m│   │   \u001b[0m\u001b[96mself\u001b[0m.log(\u001b[33mf\u001b[0m\u001b[33m\"\u001b[0m\u001b[33m[green]STARTED\u001b[0m\u001b[33m\"\u001b[0m,\u001b[33mf\u001b[0m\u001b[33m\"\u001b[0m\u001b[33mEstablished Reservation \u001b[0m\u001b[33m{\u001b[0m\u001b[96mself\u001b[0m.reservation\u001b[33m}\u001b[0m\u001b[33m\"\u001b[0m)   \u001b[91m│\u001b[0m\n",
       "\u001b[91m│\u001b[0m   \u001b[2m184 \u001b[0m\u001b[2m│   │   \u001b[0m\u001b[94mreturn\u001b[0m \u001b[96mself\u001b[0m                                                                 \u001b[91m│\u001b[0m\n",
       "\u001b[91m╰───────────────────────────────────────────────────────────────────────────────────────────╯\u001b[0m\n",
       "\u001b[1;91mCancelledError: \u001b[0m\n"
      ]
     },
     "metadata": {},
     "output_type": "display_data"
    }
   ],
   "source": [
    "async with zeries.reserve() as res:\n",
    "    x = await res.assign(2, amount=3)\n",
    "    print(x)"
   ]
  },
  {
   "cell_type": "code",
   "execution_count": 6,
   "metadata": {},
   "outputs": [
    {
     "data": {
      "application/vnd.jupyter.widget-view+json": {
       "model_id": "da1268531a1b495194d96882fdece552",
       "version_major": 2,
       "version_minor": 0
      },
      "text/plain": [
       "Output()"
      ]
     },
     "metadata": {},
     "output_type": "display_data"
    },
    {
     "data": {
      "text/html": [
       "<pre style=\"white-space:pre;overflow-x:auto;line-height:normal;font-family:Menlo,'DejaVu Sans Mono',consolas,'Courier New',monospace\"><span style=\"color: #ff0000; text-decoration-color: #ff0000\">╭──────────────────────────── </span><span style=\"color: #800000; text-decoration-color: #800000; font-weight: bold\">Traceback </span><span style=\"color: #bf7f7f; text-decoration-color: #bf7f7f; font-weight: bold\">(most recent call last)</span><span style=\"color: #ff0000; text-decoration-color: #ff0000\"> ────────────────────────────╮</span>\n",
       "<span style=\"color: #ff0000; text-decoration-color: #ff0000\">│</span> <span style=\"color: #808000; text-decoration-color: #808000\">&lt;ipython-input-6-a206a21e26c0&gt;</span>:<span style=\"color: #0000ff; text-decoration-color: #0000ff\">2</span> in <span style=\"color: #00ff00; text-decoration-color: #00ff00\">&lt;module&gt;</span>                                              <span style=\"color: #ff0000; text-decoration-color: #ff0000\">│</span>\n",
       "<span style=\"color: #ff0000; text-decoration-color: #ff0000\">│</span>                                                                                           <span style=\"color: #ff0000; text-decoration-color: #ff0000\">│</span>\n",
       "<span style=\"color: #ff0000; text-decoration-color: #ff0000\">│</span> <span style=\"color: #bfbf7f; text-decoration-color: #bfbf7f\">/home/jhnnsrs/Code/bergen/bergen/contracts/</span><span style=\"color: #808000; text-decoration-color: #808000; font-weight: bold\">reservation.py</span>:<span style=\"color: #0000ff; text-decoration-color: #0000ff\">182</span> in <span style=\"color: #00ff00; text-decoration-color: #00ff00\">__aenter__</span>               <span style=\"color: #ff0000; text-decoration-color: #ff0000\">│</span>\n",
       "<span style=\"color: #ff0000; text-decoration-color: #ff0000\">│</span>                                                                                           <span style=\"color: #ff0000; text-decoration-color: #ff0000\">│</span>\n",
       "<span style=\"color: #ff0000; text-decoration-color: #ff0000\">│</span>   <span style=\"color: #7f7f7f; text-decoration-color: #7f7f7f\">179 │   │   </span><span style=\"color: #00ffff; text-decoration-color: #00ffff\">self</span>.worker_task = <span style=\"color: #00ffff; text-decoration-color: #00ffff\">self</span>.loop.create_task(<span style=\"color: #00ffff; text-decoration-color: #00ffff\">self</span>.contract_worker())            <span style=\"color: #ff0000; text-decoration-color: #ff0000\">│</span>\n",
       "<span style=\"color: #ff0000; text-decoration-color: #ff0000\">│</span>   <span style=\"color: #7f7f7f; text-decoration-color: #7f7f7f\">180 │   │   </span>                                                                            <span style=\"color: #ff0000; text-decoration-color: #ff0000\">│</span>\n",
       "<span style=\"color: #ff0000; text-decoration-color: #ff0000\">│</span>   <span style=\"color: #7f7f7f; text-decoration-color: #7f7f7f\">181 │   │   </span><span style=\"color: #00ffff; text-decoration-color: #00ffff\">self</span>.worker_task.add_done_callback(<span style=\"color: #00ffff; text-decoration-color: #00ffff\">self</span>.cancel_reservation)                 <span style=\"color: #ff0000; text-decoration-color: #ff0000\">│</span>\n",
       "<span style=\"color: #ff0000; text-decoration-color: #ff0000\">│</span> <span style=\"color: #800000; text-decoration-color: #800000\">❱ </span>182 <span style=\"color: #7f7f7f; text-decoration-color: #7f7f7f\">│   │   </span><span style=\"color: #00ffff; text-decoration-color: #00ffff\">self</span>.reservation = <span style=\"color: #0000ff; text-decoration-color: #0000ff\">await</span> <span style=\"color: #00ffff; text-decoration-color: #00ffff\">self</span>.contract_started                              <span style=\"color: #ff0000; text-decoration-color: #ff0000\">│</span>\n",
       "<span style=\"color: #ff0000; text-decoration-color: #ff0000\">│</span>   <span style=\"color: #7f7f7f; text-decoration-color: #7f7f7f\">183 │   │   </span><span style=\"color: #00ffff; text-decoration-color: #00ffff\">self</span>.log(<span style=\"color: #808000; text-decoration-color: #808000\">f\"[green]STARTED\"</span>,<span style=\"color: #808000; text-decoration-color: #808000\">f\"Established Reservation {</span><span style=\"color: #00ffff; text-decoration-color: #00ffff\">self</span>.reservation<span style=\"color: #808000; text-decoration-color: #808000\">}\"</span>)   <span style=\"color: #ff0000; text-decoration-color: #ff0000\">│</span>\n",
       "<span style=\"color: #ff0000; text-decoration-color: #ff0000\">│</span>   <span style=\"color: #7f7f7f; text-decoration-color: #7f7f7f\">184 │   │   </span><span style=\"color: #0000ff; text-decoration-color: #0000ff\">return</span> <span style=\"color: #00ffff; text-decoration-color: #00ffff\">self</span>                                                                 <span style=\"color: #ff0000; text-decoration-color: #ff0000\">│</span>\n",
       "<span style=\"color: #ff0000; text-decoration-color: #ff0000\">╰───────────────────────────────────────────────────────────────────────────────────────────╯</span>\n",
       "<span style=\"color: #ff0000; text-decoration-color: #ff0000; font-weight: bold\">CancelledError: </span>\n",
       "</pre>\n"
      ],
      "text/plain": [
       "\u001b[91m╭─\u001b[0m\u001b[91m─────────────────────────── \u001b[0m\u001b[1;31mTraceback \u001b[0m\u001b[1;2;31m(most recent call last)\u001b[0m\u001b[91m ───────────────────────────\u001b[0m\u001b[91m─╮\u001b[0m\n",
       "\u001b[91m│\u001b[0m \u001b[33m<ipython-input-6-a206a21e26c0>\u001b[0m:\u001b[94m2\u001b[0m in \u001b[92m<module>\u001b[0m                                              \u001b[91m│\u001b[0m\n",
       "\u001b[91m│\u001b[0m                                                                                           \u001b[91m│\u001b[0m\n",
       "\u001b[91m│\u001b[0m \u001b[2;33m/home/jhnnsrs/Code/bergen/bergen/contracts/\u001b[0m\u001b[1;33mreservation.py\u001b[0m:\u001b[94m182\u001b[0m in \u001b[92m__aenter__\u001b[0m               \u001b[91m│\u001b[0m\n",
       "\u001b[91m│\u001b[0m                                                                                           \u001b[91m│\u001b[0m\n",
       "\u001b[91m│\u001b[0m   \u001b[2m179 \u001b[0m\u001b[2m│   │   \u001b[0m\u001b[96mself\u001b[0m.worker_task = \u001b[96mself\u001b[0m.loop.create_task(\u001b[96mself\u001b[0m.contract_worker())            \u001b[91m│\u001b[0m\n",
       "\u001b[91m│\u001b[0m   \u001b[2m180 \u001b[0m\u001b[2m│   │   \u001b[0m                                                                            \u001b[91m│\u001b[0m\n",
       "\u001b[91m│\u001b[0m   \u001b[2m181 \u001b[0m\u001b[2m│   │   \u001b[0m\u001b[96mself\u001b[0m.worker_task.add_done_callback(\u001b[96mself\u001b[0m.cancel_reservation)                 \u001b[91m│\u001b[0m\n",
       "\u001b[91m│\u001b[0m \u001b[31m❱ \u001b[0m182 \u001b[2m│   │   \u001b[0m\u001b[96mself\u001b[0m.reservation = \u001b[94mawait\u001b[0m \u001b[96mself\u001b[0m.contract_started                              \u001b[91m│\u001b[0m\n",
       "\u001b[91m│\u001b[0m   \u001b[2m183 \u001b[0m\u001b[2m│   │   \u001b[0m\u001b[96mself\u001b[0m.log(\u001b[33mf\u001b[0m\u001b[33m\"\u001b[0m\u001b[33m[green]STARTED\u001b[0m\u001b[33m\"\u001b[0m,\u001b[33mf\u001b[0m\u001b[33m\"\u001b[0m\u001b[33mEstablished Reservation \u001b[0m\u001b[33m{\u001b[0m\u001b[96mself\u001b[0m.reservation\u001b[33m}\u001b[0m\u001b[33m\"\u001b[0m)   \u001b[91m│\u001b[0m\n",
       "\u001b[91m│\u001b[0m   \u001b[2m184 \u001b[0m\u001b[2m│   │   \u001b[0m\u001b[94mreturn\u001b[0m \u001b[96mself\u001b[0m                                                                 \u001b[91m│\u001b[0m\n",
       "\u001b[91m╰───────────────────────────────────────────────────────────────────────────────────────────╯\u001b[0m\n",
       "\u001b[1;91mCancelledError: \u001b[0m\n"
      ]
     },
     "metadata": {},
     "output_type": "display_data"
    }
   ],
   "source": [
    "with Monitor(title=\"testing\"):\n",
    "            async with zeries.reserve(room=\"sted\", auto_provide=True, auto_unprovide=False) as res:\n",
    "                async for value in res.stream(1, amount=100):\n",
    "                    res.log(\"nana\", str(value))\n",
    "\n",
    "                print(\"Done\")"
   ]
  },
  {
   "cell_type": "code",
   "execution_count": null,
   "metadata": {},
   "outputs": [],
   "source": []
  }
 ],
 "metadata": {
  "kernelspec": {
   "display_name": "Python 3",
   "language": "python",
   "name": "python3"
  },
  "language_info": {
   "codemirror_mode": {
    "name": "ipython",
    "version": 3
   },
   "file_extension": ".py",
   "mimetype": "text/x-python",
   "name": "python",
   "nbconvert_exporter": "python",
   "pygments_lexer": "ipython3",
   "version": "3.8.6"
  }
 },
 "nbformat": 4,
 "nbformat_minor": 4
}
